{
 "cells": [
  {
   "cell_type": "markdown",
   "metadata": {},
   "source": [
    "【python】关于import你需要知道的一切！一个视频足够了\n",
    "https://www.bilibili.com/video/BV1K24y1k7XA\n",
    "\n",
    "module独立构成一个命名空间，本身是一个python object \n",
    "\n",
    "module是一个python运行时的概念，通过import一个文件来载入\n",
    "\n",
    "package是一个有__path__ attribute的module，package常常是文件夹"
   ]
  },
  {
   "cell_type": "markdown",
   "metadata": {},
   "source": [
    "系统会从sys.path按顺序查找"
   ]
  },
  {
   "cell_type": "code",
   "execution_count": 1,
   "metadata": {},
   "outputs": [
    {
     "data": {
      "text/plain": [
       "['e:\\\\project\\\\learnpython\\\\manonggaotian',\n",
       " 'd:\\\\anaconda\\\\python311.zip',\n",
       " 'd:\\\\anaconda\\\\DLLs',\n",
       " 'd:\\\\anaconda\\\\Lib',\n",
       " 'd:\\\\anaconda',\n",
       " '',\n",
       " 'C:\\\\Users\\\\sbc\\\\AppData\\\\Roaming\\\\Python\\\\Python311\\\\site-packages',\n",
       " 'C:\\\\Users\\\\sbc\\\\AppData\\\\Roaming\\\\Python\\\\Python311\\\\site-packages\\\\win32',\n",
       " 'C:\\\\Users\\\\sbc\\\\AppData\\\\Roaming\\\\Python\\\\Python311\\\\site-packages\\\\win32\\\\lib',\n",
       " 'C:\\\\Users\\\\sbc\\\\AppData\\\\Roaming\\\\Python\\\\Python311\\\\site-packages\\\\Pythonwin',\n",
       " 'd:\\\\anaconda\\\\Lib\\\\site-packages',\n",
       " 'd:\\\\anaconda\\\\Lib\\\\site-packages\\\\win32',\n",
       " 'd:\\\\anaconda\\\\Lib\\\\site-packages\\\\win32\\\\lib',\n",
       " 'd:\\\\anaconda\\\\Lib\\\\site-packages\\\\Pythonwin']"
      ]
     },
     "execution_count": 1,
     "metadata": {},
     "output_type": "execute_result"
    }
   ],
   "source": [
    "import sys\n",
    "sys.path"
   ]
  },
  {
   "cell_type": "markdown",
   "metadata": {},
   "source": [
    "import时，在单独的命名空间运行找到的module文件来生成一个module object，并将其赋值给原名变量或as后的变量\n",
    "\n",
    "当同一个module import过一次后，再次import不会再次运行文件"
   ]
  },
  {
   "cell_type": "code",
   "execution_count": 2,
   "metadata": {},
   "outputs": [
    {
     "name": "stdout",
     "output_type": "stream",
     "text": [
      "['_STRUCT_TM_ITEMS', '__doc__', '__loader__', '__name__', '__package__', '__spec__', 'altzone', 'asctime', 'ctime', 'daylight', 'get_clock_info', 'gmtime', 'localtime', 'mktime', 'monotonic', 'monotonic_ns', 'perf_counter', 'perf_counter_ns', 'process_time', 'process_time_ns', 'sleep', 'strftime', 'strptime', 'struct_time', 'thread_time', 'thread_time_ns', 'time', 'time_ns', 'timezone', 'tzname']\n"
     ]
    }
   ],
   "source": [
    "import os\n",
    "import time as othername\n",
    "print(dir(othername))"
   ]
  },
  {
   "cell_type": "markdown",
   "metadata": {},
   "source": [
    "当importpackage时，如果该文件夹下无__init__.py ,就不会运行任何代码"
   ]
  },
  {
   "cell_type": "markdown",
   "metadata": {},
   "source": [
    "relative import\n",
    "\n",
    "reletive import 是先找到绝对路径，再import的。\n",
    "\n",
    "通过module的package变量计算绝对路径\n",
    "\n",
    "所以直接运行含有relative import的文件时，文件会被作为main module，而无法计算绝对路径出错\n",
    "\n",
    "当python mypackage/mymodule.py 提示找不到package时可以用python -m mypackage.mymodule告诉解释器要用那个package，就能运行mypackage/mymodule.py了"
   ]
  },
  {
   "cell_type": "markdown",
   "metadata": {},
   "source": [
    "单下划线开头的global variable在import *时不会引入"
   ]
  }
 ],
 "metadata": {
  "kernelspec": {
   "display_name": "base",
   "language": "python",
   "name": "python3"
  },
  "language_info": {
   "codemirror_mode": {
    "name": "ipython",
    "version": 3
   },
   "file_extension": ".py",
   "mimetype": "text/x-python",
   "name": "python",
   "nbconvert_exporter": "python",
   "pygments_lexer": "ipython3",
   "version": "3.11.9"
  }
 },
 "nbformat": 4,
 "nbformat_minor": 2
}
