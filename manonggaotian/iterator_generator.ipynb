{
 "cells": [
  {
   "cell_type": "markdown",
   "metadata": {},
   "source": [
    "https://www.bilibili.com/video/BV1ca411t7A9\n",
    "\n",
    "python】对迭代器一知半解？看完这个视频就会了。涉及的每个概念，都给你讲清楚！\n",
    "\n",
    "\n",
    "有__iter__()或__getitem__()的对象是iterable的。这保证了在iter()的作用下返回iterator\n",
    "\n",
    "iterator必须有__next__()的method，保证在next()作用下可以返回下一个iterable的值。iterator是有状态的。\n",
    "（python 文档规定itetator本身需要是iterable的） "
   ]
  },
  {
   "cell_type": "code",
   "execution_count": 3,
   "metadata": {},
   "outputs": [
    {
     "name": "stdout",
     "output_type": "stream",
     "text": [
      "node1\n",
      "node2\n",
      "node3\n"
     ]
    }
   ],
   "source": [
    "#链表 \n",
    "\n",
    "class NodeIter:\n",
    "    \n",
    "    def __init__(self, node):\n",
    "        self.curr_node = node\n",
    "    \n",
    "    def __next__(self):\n",
    "        \n",
    "        if self.curr_node is None:\n",
    "            raise StopIteration\n",
    "        node, self.curr_node = self.curr_node, self.curr_node.next\n",
    "        return node\n",
    "\n",
    "    \n",
    "class Node:\n",
    "    \n",
    "    def __init__(self, name):\n",
    "        self.name = name\n",
    "        self.next = None\n",
    "        \n",
    "    def __iter__(self):\n",
    "        return NodeIter(self)\n",
    "\n",
    "    \n",
    "node1 = Node('node1')\n",
    "node2 = Node('node2')\n",
    "node3 = Node('node3')\n",
    "node1.next = node2\n",
    "node2.next = node3\n",
    "\n",
    "\n",
    "for node in node1:\n",
    "    print(node.name)"
   ]
  },
  {
   "cell_type": "markdown",
   "metadata": {},
   "source": [
    "# generator\n",
    "\n",
    "https://www.bilibili.com/video/BV1KS4y1D7Qb\n",
    "\n",
    "生成器是一种特殊的迭代器\n",
    "\n"
   ]
  },
  {
   "cell_type": "code",
   "execution_count": 5,
   "metadata": {},
   "outputs": [
    {
     "name": "stdout",
     "output_type": "stream",
     "text": [
      "5\n",
      "4\n",
      "3\n",
      "2\n",
      "1\n",
      "--------------------------------\n",
      "4\n",
      "3\n",
      "2\n",
      "1\n"
     ]
    }
   ],
   "source": [
    "def gen(num): #生成器函数\n",
    "    while num:\n",
    "        yield num\n",
    "        num -= 1\n",
    "    return #当函数定义中有yield时，python会将该函数认为是生成器函数，调用生成器函数会返回一个生成器对象，而不返回函数的返回值\n",
    "\n",
    "g = gen(5) #生成器对象\n",
    "\n",
    "for i in g:\n",
    "    print(i)\n",
    "      \n",
    "g = gen(5)\n",
    "first = next(g)\n",
    "\n",
    "print(\"--------------------------------\")\n",
    "for i in g:\n",
    "    print(i)  "
   ]
  },
  {
   "cell_type": "markdown",
   "metadata": {},
   "source": [
    "generator实现上面iterator实现的链表"
   ]
  },
  {
   "cell_type": "code",
   "execution_count": 8,
   "metadata": {},
   "outputs": [
    {
     "name": "stdout",
     "output_type": "stream",
     "text": [
      "node1\n",
      "node2\n",
      "node3\n"
     ]
    }
   ],
   "source": [
    "class Node:\n",
    "    \n",
    "    def __init__(self, name):\n",
    "        self.name = name\n",
    "        self.next = None\n",
    "        \n",
    "    def __iter__(self):\n",
    "        node = self\n",
    "        while node is not None:\n",
    "            yield node\n",
    "            node = node.next\n",
    "\n",
    "    \n",
    "node1 = Node('node1')\n",
    "node2 = Node('node2')\n",
    "node3 = Node('node3')\n",
    "node1.next = node2\n",
    "node2.next = node3\n",
    "\n",
    "\n",
    "for node in node1:\n",
    "    print(node.name)"
   ]
  },
  {
   "cell_type": "markdown",
   "metadata": {},
   "source": [
    "generator可以使用send\n",
    "\n",
    "要使用generator.send()，需要yield num幅给一个变量，当使用send方法时，会将send()中的值赋给这个变量，并从yeild处运行至下一次yield返回generator的值"
   ]
  },
  {
   "cell_type": "code",
   "execution_count": 25,
   "metadata": {},
   "outputs": [
    {
     "name": "stdout",
     "output_type": "stream",
     "text": [
      "before yield: 5\n",
      "first: 5\n",
      "--------------------------------\n",
      "after yield: 3\n",
      "before yield: 2\n",
      "send: 2\n",
      "--------------------------------\n",
      "after yield: 2\n",
      "before yield: 1\n",
      "return by generator: 1\n",
      "after yield: 1\n"
     ]
    }
   ],
   "source": [
    "def gen(num):\n",
    "    while num>0:\n",
    "        print(f\"before yield: {num}\")\n",
    "        tmp = yield num #这里赋值给tmp\n",
    "        if tmp is not None:\n",
    "            num = tmp\n",
    "        print(f\"after yield: {num}\")\n",
    "        num -= 1\n",
    "        \n",
    "g = gen(5)\n",
    "\n",
    "first = next(g)  # first = g.send(None) 和 first = next(g) 是等价的\n",
    "print(f\"first: {first}\")\n",
    "\n",
    "print(\"--------------------------------\")\n",
    "\n",
    "print(f\"send: {g.send(3)}\")\n",
    "\n",
    "print(\"--------------------------------\")\n",
    "for i in g:\n",
    "    print(f\"return by generator: {i}\")"
   ]
  },
  {
   "cell_type": "markdown",
   "metadata": {},
   "source": [
    "# list comprehension\n",
    "\n",
    "https://www.bilibili.com/video/BV1At4y1b7L1\n",
    "\n",
    "list comprehension 一般情况下for loop比块"
   ]
  },
  {
   "cell_type": "code",
   "execution_count": 4,
   "metadata": {},
   "outputs": [
    {
     "name": "stdout",
     "output_type": "stream",
     "text": [
      "for loop: 0.026084100012667477\n",
      "list comprehension: 0.015358700009528548\n"
     ]
    }
   ],
   "source": [
    "from timeit import timeit\n",
    "\n",
    "def with_for():\n",
    "    list = []\n",
    "    for i in range(100):\n",
    "        list.append(i)\n",
    "    return list\n",
    "\n",
    "def with_list_comprehension():\n",
    "    return [i for i in range(100)]\n",
    "print(f\"for loop: {timeit(with_for, number=10000)}\")\n",
    "print(f\"list comprehension: {timeit(with_list_comprehension, number=10000)}\")"
   ]
  },
  {
   "cell_type": "markdown",
   "metadata": {},
   "source": [
    "[i for i in range(100)]会生成一个list\n",
    "\n",
    "(i for i in range(100))会建立一个generator"
   ]
  },
  {
   "cell_type": "code",
   "execution_count": null,
   "metadata": {},
   "outputs": [],
   "source": []
  }
 ],
 "metadata": {
  "kernelspec": {
   "display_name": "base",
   "language": "python",
   "name": "python3"
  },
  "language_info": {
   "codemirror_mode": {
    "name": "ipython",
    "version": 3
   },
   "file_extension": ".py",
   "mimetype": "text/x-python",
   "name": "python",
   "nbconvert_exporter": "python",
   "pygments_lexer": "ipython3",
   "version": "3.11.9"
  }
 },
 "nbformat": 4,
 "nbformat_minor": 2
}
