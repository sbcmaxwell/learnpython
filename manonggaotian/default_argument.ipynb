{
 "cells": [
  {
   "cell_type": "markdown",
   "metadata": {},
   "source": [
    "https://www.bilibili.com/video/BV1NP4y1g7CT\n",
    "\n",
    "如下方法使用list []作为默认值，会使python使用同一个list 对象给不同实例，造成如下问题"
   ]
  },
  {
   "cell_type": "code",
   "execution_count": 3,
   "metadata": {},
   "outputs": [
    {
     "name": "stdout",
     "output_type": "stream",
     "text": [
      "['a', 'b']\n",
      "2165774738112\n",
      "2165774738112\n"
     ]
    }
   ],
   "source": [
    "class a_class:\n",
    "    def __init__(self, property_1, property_2 = []):\n",
    "        self.property_1 = property_1\n",
    "        self.property_2 = property_2\n",
    "    \n",
    "first = a_class('1')\n",
    "second = a_class('2')\n",
    "\n",
    "first.property_2.append('a')\n",
    "second.property_2.append('b')\n",
    "\n",
    "print(first.property_2)\n",
    "print(id(first.property_2))\n",
    "print(id(second.property_2))"
   ]
  },
  {
   "cell_type": "markdown",
   "metadata": {},
   "source": [
    "使用如下方法解决"
   ]
  },
  {
   "cell_type": "code",
   "execution_count": 7,
   "metadata": {},
   "outputs": [
    {
     "name": "stdout",
     "output_type": "stream",
     "text": [
      "['a']\n",
      "2165780544384\n",
      "2165780544320\n"
     ]
    }
   ],
   "source": [
    "class b_class:\n",
    "    def __init__(self, property_1, property_2 = None):\n",
    "        \n",
    "        self.property_1 = property_1\n",
    "        if property_2 is None:\n",
    "            self.property_2 = []\n",
    "        else:\n",
    "            self.property_2 = property_2\n",
    " \n",
    "    \n",
    "first = b_class('1')\n",
    "second = b_class('2')\n",
    "\n",
    "first.property_2.append('a')\n",
    "second.property_2.append('b')\n",
    "\n",
    "print(first.property_2)\n",
    "print(id(first.property_2))\n",
    "print(id(second.property_2))"
   ]
  }
 ],
 "metadata": {
  "kernelspec": {
   "display_name": "base",
   "language": "python",
   "name": "python3"
  },
  "language_info": {
   "codemirror_mode": {
    "name": "ipython",
    "version": 3
   },
   "file_extension": ".py",
   "mimetype": "text/x-python",
   "name": "python",
   "nbconvert_exporter": "python",
   "pygments_lexer": "ipython3",
   "version": "3.11.9"
  }
 },
 "nbformat": 4,
 "nbformat_minor": 2
}
