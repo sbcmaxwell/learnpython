{
 "cells": [
  {
   "cell_type": "code",
   "execution_count": 3,
   "metadata": {},
   "outputs": [
    {
     "name": "stdout",
     "output_type": "stream",
     "text": [
      "directly: 42864\n"
     ]
    }
   ],
   "source": [
    "import multiprocessing\n",
    "import os\n",
    "\n",
    "print(f\"directly: {os.getpid()}\")\n",
    "\n",
    "def f():\n",
    "    print(f\"from multiprocessing: {os.getpid()}\")\n",
    "    \n",
    "p = multiprocessing.Process(target=f)\n",
    "p.start()\n",
    "p.join()\n",
    "\n",
    "class MyProcess(multiprocessing.Process):\n",
    "    def run(self):\n",
    "        f()\n",
    "\n",
    "p = MyProcess()\n",
    "p.start()\n",
    "p.join()"
   ]
  }
 ],
 "metadata": {
  "kernelspec": {
   "display_name": "base",
   "language": "python",
   "name": "python3"
  },
  "language_info": {
   "codemirror_mode": {
    "name": "ipython",
    "version": 3
   },
   "file_extension": ".py",
   "mimetype": "text/x-python",
   "name": "python",
   "nbconvert_exporter": "python",
   "pygments_lexer": "ipython3",
   "version": "3.11.9"
  }
 },
 "nbformat": 4,
 "nbformat_minor": 2
}
