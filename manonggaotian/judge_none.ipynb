{
 "cells": [
  {
   "cell_type": "markdown",
   "metadata": {},
   "source": [
    "https://www.bilibili.com/video/BV1xL411N7iS\n",
    "正确方法\n",
    "使用is 直接比较地址，速度快，稳定"
   ]
  },
  {
   "cell_type": "code",
   "execution_count": 1,
   "metadata": {},
   "outputs": [
    {
     "name": "stdout",
     "output_type": "stream",
     "text": [
      "a is None\n"
     ]
    }
   ],
   "source": [
    "a = None\n",
    "\n",
    "if a is None:\n",
    "    print(\"a is None\")"
   ]
  },
  {
   "cell_type": "markdown",
   "metadata": {},
   "source": [
    "使用如下方法判断None,\n",
    "当a=None时均正确"
   ]
  },
  {
   "cell_type": "code",
   "execution_count": 3,
   "metadata": {},
   "outputs": [
    {
     "name": "stdout",
     "output_type": "stream",
     "text": [
      "a False\n",
      "a == None\n",
      "a is None\n"
     ]
    }
   ],
   "source": [
    "a = None\n",
    "\n",
    "if a :\n",
    "    print(\"a True\")\n",
    "else:\n",
    "    print(\"a False\")\n",
    "    \n",
    "if a == None:\n",
    "    print(\"a == None\")\n",
    "    \n",
    "if a is None:\n",
    "    print(\"a is None\")"
   ]
  },
  {
   "cell_type": "markdown",
   "metadata": {},
   "source": [
    "输入为其他东西时\n",
    "object的__bool__会影响判断"
   ]
  },
  {
   "cell_type": "code",
   "execution_count": 7,
   "metadata": {},
   "outputs": [
    {
     "name": "stdout",
     "output_type": "stream",
     "text": [
      "[]  None\n",
      "{}  None\n",
      "set()  None\n",
      "None  None\n",
      "False  None\n",
      "0  None\n",
      "0.0  None\n",
      "  None\n"
     ]
    }
   ],
   "source": [
    "l = [[], {}, set(), None, False, 0, 0.0, \"\"]\n",
    "\n",
    "for a in l:\n",
    "    if not a:\n",
    "        print(f\"{a}  None\")\n",
    "    else:\n",
    "        print(f\"{a}  \")"
   ]
  },
  {
   "cell_type": "markdown",
   "metadata": {},
   "source": [
    "object的__eq__会影响 == 判断"
   ]
  },
  {
   "cell_type": "code",
   "execution_count": 12,
   "metadata": {},
   "outputs": [
    {
     "name": "stdout",
     "output_type": "stream",
     "text": [
      "[]  \n",
      "{}  \n",
      "set()  \n",
      "None == None\n",
      "False  \n",
      "0  \n",
      "0.0  \n",
      "  \n",
      "a == None\n"
     ]
    }
   ],
   "source": [
    "l = [[], {}, set(), None, False, 0, 0.0, \"\"]\n",
    "\n",
    "for a in l:\n",
    "    if a == None:\n",
    "        print(f\"{a} == None\")\n",
    "    else:\n",
    "        print(f\"{a}  \")\n",
    "        \n",
    "class Mystructure:\n",
    "    def __eq__(self, value: object) -> bool:\n",
    "        return True\n",
    "\n",
    "a = Mystructure()\n",
    "if a == 'yes':\n",
    "    print(\"a == None\")"
   ]
  },
  {
   "cell_type": "markdown",
   "metadata": {},
   "source": []
  },
  {
   "cell_type": "code",
   "execution_count": null,
   "metadata": {},
   "outputs": [],
   "source": [
    "l = [[], {}, set(), None, False, 0, 0.0, \"\"]\n",
    "\n",
    "for a in l:\n",
    "    if a is None:\n",
    "        print(f\"{a} == None\")\n",
    "    else:\n",
    "        print(f\"{a}  \")\n",
    "        \n",
    "class Mystructure:\n",
    "    def __eq__(self, value: object) -> bool:\n",
    "        return True"
   ]
  }
 ],
 "metadata": {
  "kernelspec": {
   "display_name": "base",
   "language": "python",
   "name": "python3"
  },
  "language_info": {
   "codemirror_mode": {
    "name": "ipython",
    "version": 3
   },
   "file_extension": ".py",
   "mimetype": "text/x-python",
   "name": "python",
   "nbconvert_exporter": "python",
   "pygments_lexer": "ipython3",
   "version": "3.11.9"
  }
 },
 "nbformat": 4,
 "nbformat_minor": 2
}
