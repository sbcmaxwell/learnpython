{
 "cells": [
  {
   "cell_type": "markdown",
   "metadata": {},
   "source": [
    "decrator是一个输入是函数的函数，用特殊的方法@使用。它的返回值通常也是函数"
   ]
  },
  {
   "cell_type": "code",
   "execution_count": null,
   "metadata": {},
   "outputs": [],
   "source": [
    "def dec(f):\n",
    "    pass\n",
    "\n",
    "@dec\n",
    "def double(x):\n",
    "    return x * 2   \n",
    "\n",
    "########### equal to below code ###########\n",
    "\n",
    "double = dec(double)"
   ]
  },
  {
   "cell_type": "markdown",
   "metadata": {},
   "source": []
  },
  {
   "cell_type": "code",
   "execution_count": 5,
   "metadata": {},
   "outputs": [
    {
     "name": "stdout",
     "output_type": "stream",
     "text": [
      "0.0\n",
      "5\n"
     ]
    }
   ],
   "source": [
    "import time \n",
    "def timeit(f):\n",
    "    \n",
    "    def wrapper(*args, **kwargs):\n",
    "        start = time.time()\n",
    "        ret = f(*args, **kwargs) \n",
    "        print(time.time() - start) \n",
    "        return ret\n",
    "    return wrapper\n",
    "\n",
    "@timeit\n",
    "def my_func(x):\n",
    "    time.sleep(x)\n",
    "    \n",
    "@timeit\n",
    "def add(x,y):\n",
    "    return x + y\n",
    "print(add(2, 3))\n",
    "\n"
   ]
  },
  {
   "cell_type": "code",
   "execution_count": 18,
   "metadata": {},
   "outputs": [
    {
     "name": "stdout",
     "output_type": "stream",
     "text": [
      "case1\n",
      "0.0068285465240478516\n",
      "4\n",
      "case2\n",
      "0.006613731384277344\n",
      "4\n"
     ]
    }
   ],
   "source": [
    "#decorator with arguments\n",
    "\n",
    "def timeit2(n):\n",
    "    def inner(f):\n",
    "        def wrapper(*args, **kwargs):\n",
    "            start = time.time()\n",
    "            for _ in range(n):\n",
    "                ret = f(*args, **kwargs) \n",
    "            print(time.time() - start) \n",
    "            return ret\n",
    "        return wrapper\n",
    "    return inner\n",
    "\n",
    "################### the following code is equal to each other ###################\n",
    "\n",
    "@timeit2(100000)\n",
    "def double(x):\n",
    "    return x * 2\n",
    "\n",
    "print(\"case1\")\n",
    "print(double(2))\n",
    "#################################################################################\n",
    "def double(x):\n",
    "    return x * 2\n",
    "\n",
    "double = timeit2(100000)(double)\n",
    "\n",
    "print(\"case2\")\n",
    "print(double(2))\n"
   ]
  }
 ],
 "metadata": {
  "kernelspec": {
   "display_name": "base",
   "language": "python",
   "name": "python3"
  },
  "language_info": {
   "codemirror_mode": {
    "name": "ipython",
    "version": 3
   },
   "file_extension": ".py",
   "mimetype": "text/x-python",
   "name": "python",
   "nbconvert_exporter": "python",
   "pygments_lexer": "ipython3",
   "version": "3.11.9"
  }
 },
 "nbformat": 4,
 "nbformat_minor": 2
}
