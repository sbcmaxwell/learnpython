{
 "cells": [
  {
   "cell_type": "code",
   "execution_count": 1,
   "metadata": {},
   "outputs": [
    {
     "name": "stdout",
     "output_type": "stream",
     "text": [
      "Caught an exception of type BaseException or its derived classes\n",
      "Caught an exception of type BaseException\n"
     ]
    }
   ],
   "source": [
    "class BaseException(Exception):\n",
    "    pass\n",
    "\n",
    "class DerivedException1(BaseException):\n",
    "    pass\n",
    "\n",
    "class DerivedException2(BaseException):\n",
    "    pass\n",
    "\n",
    "try:\n",
    "    raise DerivedException1\n",
    "except BaseException:\n",
    "    print(\"Caught an exception of type BaseException or its derived classes\")\n",
    "except DerivedException1:\n",
    "    print(\"This won't be executed, because the BaseException catch block above will catch it first\")\n",
    "\n",
    "try:\n",
    "    raise BaseException\n",
    "except DerivedException1:\n",
    "    print(\"This won't be executed, because DerivedException1 does not catch BaseException\")\n",
    "except BaseException:\n",
    "    print(\"Caught an exception of type BaseException\")\n"
   ]
  }
 ],
 "metadata": {
  "kernelspec": {
   "display_name": "base",
   "language": "python",
   "name": "python3"
  },
  "language_info": {
   "codemirror_mode": {
    "name": "ipython",
    "version": 3
   },
   "file_extension": ".py",
   "mimetype": "text/x-python",
   "name": "python",
   "nbconvert_exporter": "python",
   "pygments_lexer": "ipython3",
   "version": "3.11.9"
  }
 },
 "nbformat": 4,
 "nbformat_minor": 2
}
