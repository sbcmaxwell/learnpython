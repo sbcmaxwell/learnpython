{
 "cells": [
  {
   "cell_type": "code",
   "execution_count": 1,
   "metadata": {},
   "outputs": [
    {
     "name": "stdout",
     "output_type": "stream",
     "text": [
      "b'Hello World'\n",
      "Type of data: <class 'bytes'>\n"
     ]
    }
   ],
   "source": [
    "# 以二进制写入模式打开文件\n",
    "with open('example.bin', 'wb') as file:\n",
    "    # 写入一些二进制数据\n",
    "    file.write(b'Hello World')\n",
    "\n",
    "# 以二进制读取模式打开相同的文件\n",
    "with open('example.bin', 'rb') as file:\n",
    "    # 读取数据\n",
    "    data = file.read()\n",
    "    print(data)\n",
    "\n",
    "    # 打印读取的字节类型数据\n",
    "    print('Type of data:', type(data))\n"
   ]
  }
 ],
 "metadata": {
  "kernelspec": {
   "display_name": "base",
   "language": "python",
   "name": "python3"
  },
  "language_info": {
   "codemirror_mode": {
    "name": "ipython",
    "version": 3
   },
   "file_extension": ".py",
   "mimetype": "text/x-python",
   "name": "python",
   "nbconvert_exporter": "python",
   "pygments_lexer": "ipython3",
   "version": "3.11.9"
  }
 },
 "nbformat": 4,
 "nbformat_minor": 2
}
